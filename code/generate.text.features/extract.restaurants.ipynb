{
 "cells": [
  {
   "cell_type": "code",
   "execution_count": null,
   "metadata": {},
   "outputs": [],
   "source": [
    "# This script extract restaurants from all the businesses."
   ]
  },
  {
   "cell_type": "code",
   "execution_count": 2,
   "metadata": {},
   "outputs": [],
   "source": [
    "import json"
   ]
  },
  {
   "cell_type": "code",
   "execution_count": 4,
   "metadata": {},
   "outputs": [],
   "source": [
    "count = 0\n",
    "restautants = []\n",
    "\n",
    "with open ('/Users/jiamingqu/Desktop/yelp_dataset/business.json', 'r') as f:\n",
    "    \n",
    "    for line in f.readlines():\n",
    "        \n",
    "        business = json.loads(line)\n",
    "        categories = business[\"categories\"]\n",
    "        business_id = business[\"business_id\"]\n",
    "        \n",
    "        if (categories is not None) and (\"Restaurants\" in categories):\n",
    "            restautants.append(business_id)\n",
    "        else:\n",
    "            continue"
   ]
  },
  {
   "cell_type": "code",
   "execution_count": 5,
   "metadata": {},
   "outputs": [
    {
     "data": {
      "text/plain": [
       "59371"
      ]
     },
     "execution_count": 5,
     "metadata": {},
     "output_type": "execute_result"
    }
   ],
   "source": [
    "len(restautants)"
   ]
  },
  {
   "cell_type": "code",
   "execution_count": 7,
   "metadata": {},
   "outputs": [],
   "source": [
    "with open('/Users/jiamingqu/Desktop/yelp_dataset/restaurant.txt', 'w') as f:\n",
    "    for restautant in restautants:\n",
    "        f.write(restautant)\n",
    "        f.write(\"\\n\")"
   ]
  }
 ],
 "metadata": {
  "kernelspec": {
   "display_name": "Python 3",
   "language": "python",
   "name": "python3"
  },
  "language_info": {
   "codemirror_mode": {
    "name": "ipython",
    "version": 3
   },
   "file_extension": ".py",
   "mimetype": "text/x-python",
   "name": "python",
   "nbconvert_exporter": "python",
   "pygments_lexer": "ipython3",
   "version": "3.7.4"
  }
 },
 "nbformat": 4,
 "nbformat_minor": 4
}
