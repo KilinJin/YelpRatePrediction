{
 "cells": [
  {
   "cell_type": "code",
   "execution_count": 1,
   "metadata": {},
   "outputs": [],
   "source": [
    "# This script parse the probability distribution from the topic modeling"
   ]
  },
  {
   "cell_type": "code",
   "execution_count": 6,
   "metadata": {},
   "outputs": [],
   "source": [
    "import os\n",
    "import json\n",
    "import numpy as np"
   ]
  },
  {
   "cell_type": "code",
   "execution_count": 24,
   "metadata": {},
   "outputs": [],
   "source": [
    "restaurant_topic_prob = {}"
   ]
  },
  {
   "cell_type": "code",
   "execution_count": 25,
   "metadata": {},
   "outputs": [],
   "source": [
    "for file in os.listdir(\"../lda_prob/\"):\n",
    "    with open (\"../lda_prob/\" + file, \"r\") as f:\n",
    "        prob = np.zeros(50)\n",
    "        for line in f.readlines():\n",
    "            record = line.strip().strip(\"()\").split(\",\")\n",
    "            loc = int(record[0]) - 1\n",
    "            val = float(record[1])\n",
    "            prob[loc] = val\n",
    "        restaurant_topic_prob[file[:-4]] = prob.tolist()"
   ]
  },
  {
   "cell_type": "code",
   "execution_count": 26,
   "metadata": {},
   "outputs": [],
   "source": [
    "# sanity check\n",
    "assert len(restaurant_topic_prob.keys()) == 59371"
   ]
  },
  {
   "cell_type": "code",
   "execution_count": 28,
   "metadata": {},
   "outputs": [],
   "source": [
    "with open(\"../parsed.dataset/restaurant.topic.prob.distribution.json\", 'w') as f:\n",
    "    json.dump(restaurant_topic_prob, f)"
   ]
  }
 ],
 "metadata": {
  "kernelspec": {
   "display_name": "Python 3",
   "language": "python",
   "name": "python3"
  },
  "language_info": {
   "codemirror_mode": {
    "name": "ipython",
    "version": 3
   },
   "file_extension": ".py",
   "mimetype": "text/x-python",
   "name": "python",
   "nbconvert_exporter": "python",
   "pygments_lexer": "ipython3",
   "version": "3.7.4"
  }
 },
 "nbformat": 4,
 "nbformat_minor": 4
}
