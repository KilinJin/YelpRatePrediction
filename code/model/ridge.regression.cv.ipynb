{
 "cells": [
  {
   "cell_type": "code",
   "execution_count": 1,
   "metadata": {},
   "outputs": [],
   "source": [
    "from sklearn import linear_model\n",
    "import numpy as np\n",
    "from sklearn.model_selection import cross_validate\n",
    "import json\n",
    "from itertools import combinations\n",
    "from sklearn.metrics import mean_squared_error\n",
    "from math import sqrt"
   ]
  },
  {
   "cell_type": "code",
   "execution_count": 4,
   "metadata": {},
   "outputs": [
    {
     "name": "stdout",
     "output_type": "stream",
     "text": [
      "(1237673, 20)\n",
      "(1237673,)\n",
      "(280588, 20)\n",
      "(280588,)\n"
     ]
    }
   ],
   "source": [
    "# read data\n",
    "training_x = list()\n",
    "with open (\"../training_X_with_text_features.json\",'r') as data:\n",
    "    for d in data:\n",
    "        training_x = json.loads(d)\n",
    "        \n",
    "# read data\n",
    "training_y = list()\n",
    "with open (\"../training_Y_with_text_features.json\",'r') as data:\n",
    "    for d in data:\n",
    "        training_y = json.loads(d)\n",
    "        \n",
    "training_x = np.array(training_x)\n",
    "training_y = np.array(training_y)\n",
    "\n",
    "print(training_x.shape)\n",
    "print(training_y.shape)\n",
    "\n",
    "# read data\n",
    "testing_x = list()\n",
    "with open (\"../testing_X_with_text_features.json\",'r') as data:\n",
    "    for d in data:\n",
    "        testing_x = json.loads(d)\n",
    "        \n",
    "# read data\n",
    "testing_y = list()\n",
    "with open (\"../testing_Y_with_text_features.json\",'r') as data:\n",
    "    for d in data:\n",
    "        testing_y = json.loads(d)\n",
    "        \n",
    "testing_x = np.array(testing_x)\n",
    "testing_y = np.array(testing_y)\n",
    "\n",
    "print(testing_x.shape)\n",
    "print(testing_y.shape)"
   ]
  },
  {
   "cell_type": "code",
   "execution_count": 5,
   "metadata": {},
   "outputs": [
    {
     "name": "stdout",
     "output_type": "stream",
     "text": [
      "(309418, 20)\n",
      "(309418,)\n"
     ]
    }
   ],
   "source": [
    "part_training_x = training_x[:round(0.25*1237673),:]\n",
    "part_training_y = training_y[:round(0.25*1237673)]\n",
    "print(part_training_x.shape)\n",
    "print(part_training_y.shape)"
   ]
  },
  {
   "cell_type": "code",
   "execution_count": 35,
   "metadata": {},
   "outputs": [],
   "source": [
    "# list all combinations of 20 features\n",
    "index = [*range(0,20)]\n",
    "index_combs = []\n",
    "\n",
    "for i in range(0,len(index)+1):\n",
    "    index_combs.append(list((combinations(index,i))))\n",
    "    \n",
    "# parse the list\n",
    "index_comb_parsed = []\n",
    "for index_comb in index_combs:\n",
    "    for i in index_comb:\n",
    "        i = list(i)\n",
    "        if len(i) != 0:\n",
    "            index_comb_parsed.append(i)"
   ]
  },
  {
   "cell_type": "code",
   "execution_count": 36,
   "metadata": {},
   "outputs": [
    {
     "data": {
      "text/plain": [
       "1048575"
      ]
     },
     "execution_count": 36,
     "metadata": {},
     "output_type": "execute_result"
    }
   ],
   "source": [
    "# number of all combinations\n",
    "len(index_comb_parsed)"
   ]
  },
  {
   "cell_type": "code",
   "execution_count": 44,
   "metadata": {},
   "outputs": [],
   "source": [
    "def ridge_cv():\n",
    "    \n",
    "    # use cross validation to fit the model, and save the results of a dictionary of <rmse, indexes>\n",
    "    \n",
    "    results_dict = dict()\n",
    "    count = 1\n",
    "\n",
    "    for t in index_comb_parsed:\n",
    "\n",
    "        # you can change to another model\n",
    "        ridge = linear_model.Ridge(alpha=0.5)\n",
    "\n",
    "        part_features = part_training_x[:,t]\n",
    "        cv_results = cross_validate(ridge, part_features, part_training_y, cv=3, scoring=('neg_mean_squared_error'))\n",
    "\n",
    "        results = -cv_results['test_score']\n",
    "        results_dict[round(np.mean(results),5)] = t\n",
    "\n",
    "        count += 1\n",
    "\n",
    "        if count % 1000 == 0:\n",
    "            print(count)\n",
    "            \n",
    "    return results_dict"
   ]
  },
  {
   "cell_type": "code",
   "execution_count": 49,
   "metadata": {},
   "outputs": [],
   "source": [
    "# results_dict = ridge_cv()"
   ]
  },
  {
   "cell_type": "code",
   "execution_count": 50,
   "metadata": {},
   "outputs": [],
   "source": [
    "# cross validation results: top 10 with lowest RMSE"
   ]
  },
  {
   "cell_type": "code",
   "execution_count": 43,
   "metadata": {
    "scrolled": true
   },
   "outputs": [
    {
     "data": {
      "text/plain": [
       "[(1.14507, [0, 1, 2, 6, 7, 9, 10, 11, 12, 16, 18, 19]),\n",
       " (1.14509, [0, 1, 2, 6, 9, 10, 11, 12, 13, 16, 18, 19]),\n",
       " (1.1451, [1, 2, 4, 6, 7, 9, 10, 11, 12, 16, 18, 19]),\n",
       " (1.14511, [0, 1, 2, 6, 9, 10, 11, 12, 16, 17, 18, 19]),\n",
       " (1.14512, [1, 2, 6, 7, 9, 10, 11, 12, 15, 16, 18, 19]),\n",
       " (1.14513, [1, 2, 4, 6, 9, 10, 11, 12, 15, 16, 18, 19]),\n",
       " (1.14514, [1, 2, 6, 7, 9, 10, 11, 12, 16, 17, 18, 19]),\n",
       " (1.14515, [1, 2, 6, 9, 10, 11, 12, 13, 15, 16, 18, 19]),\n",
       " (1.14516, [1, 2, 6, 9, 10, 11, 12, 13, 16, 17, 18, 19]),\n",
       " (1.14517, [1, 2, 6, 9, 10, 11, 12, 15, 16, 17, 18, 19])]"
      ]
     },
     "execution_count": 43,
     "metadata": {},
     "output_type": "execute_result"
    }
   ],
   "source": [
    "sorted(results_dict.items(),key = lambda x:x[0], reverse = False)[:10]"
   ]
  },
  {
   "cell_type": "code",
   "execution_count": 51,
   "metadata": {},
   "outputs": [],
   "source": [
    "# we will be using the feature set that gives the optimal rmse\n",
    "# the features are [0, 1, 2, 6, 7, 9, 10, 11, 12, 16, 18, 19]\n",
    "# we re-fit the model with these features, and use all the data"
   ]
  },
  {
   "cell_type": "code",
   "execution_count": 6,
   "metadata": {},
   "outputs": [],
   "source": [
    "useful_feature_index = [0, 1, 2, 6, 7, 9, 10, 11, 12, 16, 18, 19]\n",
    "\n",
    "training_features = training_x[:,useful_feature_index]\n",
    "testing_features = testing_x[:,useful_feature_index]"
   ]
  },
  {
   "cell_type": "code",
   "execution_count": 7,
   "metadata": {},
   "outputs": [
    {
     "data": {
      "text/plain": [
       "Ridge(alpha=0.5, copy_X=True, fit_intercept=True, max_iter=None,\n",
       "      normalize=False, random_state=None, solver='auto', tol=0.001)"
      ]
     },
     "execution_count": 7,
     "metadata": {},
     "output_type": "execute_result"
    }
   ],
   "source": [
    "ridge = linear_model.Ridge(alpha=0.5)\n",
    "ridge.fit(training_features,training_y)"
   ]
  },
  {
   "cell_type": "code",
   "execution_count": 8,
   "metadata": {},
   "outputs": [],
   "source": [
    "predicted_ratings = ridge.predict(testing_features)"
   ]
  },
  {
   "cell_type": "code",
   "execution_count": 9,
   "metadata": {},
   "outputs": [
    {
     "data": {
      "text/plain": [
       "array([3.90719468, 3.36122287, 3.53238204, ..., 2.27614801, 3.29654558,\n",
       "       3.30178419])"
      ]
     },
     "execution_count": 9,
     "metadata": {},
     "output_type": "execute_result"
    }
   ],
   "source": [
    "predicted_ratings"
   ]
  },
  {
   "cell_type": "code",
   "execution_count": 10,
   "metadata": {},
   "outputs": [],
   "source": [
    "rmse = sqrt(mean_squared_error(predicted_ratings, testing_y))"
   ]
  },
  {
   "cell_type": "code",
   "execution_count": 11,
   "metadata": {},
   "outputs": [
    {
     "data": {
      "text/plain": [
       "1.3336532751405283"
      ]
     },
     "execution_count": 11,
     "metadata": {},
     "output_type": "execute_result"
    }
   ],
   "source": [
    "rmse"
   ]
  }
 ],
 "metadata": {
  "kernelspec": {
   "display_name": "Python 3",
   "language": "python",
   "name": "python3"
  },
  "language_info": {
   "codemirror_mode": {
    "name": "ipython",
    "version": 3
   },
   "file_extension": ".py",
   "mimetype": "text/x-python",
   "name": "python",
   "nbconvert_exporter": "python",
   "pygments_lexer": "ipython3",
   "version": "3.7.4"
  }
 },
 "nbformat": 4,
 "nbformat_minor": 4
}
